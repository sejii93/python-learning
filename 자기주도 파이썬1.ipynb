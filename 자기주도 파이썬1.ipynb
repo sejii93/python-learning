{
 "cells": [
  {
   "cell_type": "code",
   "execution_count": null,
   "id": "8c9bcb0d",
   "metadata": {},
   "outputs": [],
   "source": [
    "#append 사용하기\n",
    "clovers = []\n",
    "clovers.append('클로버1')\n",
    "print(clovers)\n",
    "clovers.append('하트')\n",
    "print(clovers)"
   ]
  },
  {
   "cell_type": "code",
   "execution_count": null,
   "id": "803ebc3b",
   "metadata": {},
   "outputs": [],
   "source": [
    "# 덧셈 계산\n",
    "result = 0\n",
    "\n",
    "def add(num):\n",
    "    global result\n",
    "    result += num\n",
    "    return result\n",
    "\n",
    "print(add(3))\n",
    "print(add(8))"
   ]
  },
  {
   "cell_type": "code",
   "execution_count": null,
   "id": "93c834c6",
   "metadata": {},
   "outputs": [],
   "source": [
    "# 클래스를 사용하여 덧셈, 뺄셈하기\n",
    "class Calculator:\n",
    "    def __init__(self):\n",
    "        self.result = 0\n",
    "        \n",
    "    def add(self, num):\n",
    "        self.result += num\n",
    "        return self.result\n",
    "    \n",
    "    def sub(self,num):\n",
    "        self.result -= num\n",
    "        return self.result\n",
    "    \n",
    "cal1 = Calculator()\n",
    "cal2 = Calculator()  \n",
    "\n",
    "print(cal1.add(5))\n",
    "print(cal2.add(4))\n",
    "print(cal1.add(5))\n",
    "print(cal2.add(4))\n",
    "print(cal1.sub(5))\n",
    "print(cal2.sub(4))"
   ]
  },
  {
   "cell_type": "code",
   "execution_count": null,
   "id": "d1401f0e",
   "metadata": {},
   "outputs": [],
   "source": [
    "# 클래스 사용하여 사칙연산하기\n",
    "\n",
    "class FourCal:\n",
    "    def setdata(self, first, second):\n",
    "        self.first = first\n",
    "        self.second = second"
   ]
  },
  {
   "cell_type": "code",
   "execution_count": null,
   "id": "a82b9ee0",
   "metadata": {},
   "outputs": [],
   "source": [
    "a = FourCal()\n",
    "a.setdata(4,2)"
   ]
  },
  {
   "cell_type": "code",
   "execution_count": null,
   "id": "82eaf9ee",
   "metadata": {},
   "outputs": [],
   "source": [
    "print(a.first)\n",
    "print(a.second)"
   ]
  },
  {
   "cell_type": "code",
   "execution_count": null,
   "id": "d83d77e1",
   "metadata": {},
   "outputs": [],
   "source": [
    "print(a.mul())\n",
    "print(a.sub())\n",
    "print(a.div())\n",
    "\n",
    "\n",
    "a.setdata(4,2)\n",
    "print(a.add())"
   ]
  },
  {
   "cell_type": "code",
   "execution_count": null,
   "id": "3131a3ce",
   "metadata": {},
   "outputs": [],
   "source": [
    "a = input(\"수를 입력하시오.\")\n",
    "b = input(\"수를 입력하시오.\")\n",
    "a, b = int(a),int(b)\n",
    "print(a, \"+\", b, \"=\", a+b)\n",
    "print(a, \"*\", b, \"=\", a*b)"
   ]
  },
  {
   "cell_type": "code",
   "execution_count": null,
   "id": "b0db7257",
   "metadata": {},
   "outputs": [],
   "source": [
    "# float- 실수자료형, int-정수자료형,   실수자료를 소숫점 두번째 자리에서 반올림하는 것은 모르겠음\n",
    "height = float(input(\"키를 입력하시오.\"))\n",
    "weight = float(input(\"몸무게를 입력하시오\"))\n",
    "name = input(\"이름을 입력하시오\")\n",
    "print(\"키 = \", height)\n",
    "print(\"몸무게 = \", weight)\n",
    "print(\"이름 = \", name)"
   ]
  },
  {
   "cell_type": "code",
   "execution_count": null,
   "id": "493215d7",
   "metadata": {},
   "outputs": [],
   "source": [
    "# 직사각형 넓이 구하기\n",
    "garo = float(input(\"가로길이\"))\n",
    "sero = float(input(\"세로길이\"))\n",
    "print(\"넓이 = \", float(garo*sero))"
   ]
  },
  {
   "cell_type": "code",
   "execution_count": null,
   "id": "acd6ef5e",
   "metadata": {},
   "outputs": [],
   "source": [
    "#bool 자료형\n",
    "a=0\n",
    "b=1\n",
    "c=2\n",
    "\n",
    "result1 = bool(a<b and b<c)\n",
    "result2 = bool((a and b) or (b and c))\n",
    "result3 = bool(a or not c)\n",
    "result4 = bool(a !=b and b!=c)\n",
    "\n",
    "print(result1, result2, result3, result4)"
   ]
  },
  {
   "cell_type": "markdown",
   "id": "87218148",
   "metadata": {},
   "source": [
    "### 문자열 실습하기\n",
    "- 한 줄에 정수(또는 실수)형 자료 하나가 입력되는 경우\n",
    "  input().split()\n",
    "- 한 줄에 정수(또는 실수)형 자료 하나가 입력되는 경우\n",
    "  int(input()), float(input()) 등으로 형변화과 함께 사용\n",
    "- 한 줄에 문자열을 그대로 사용하는 경우\n",
    "  input().strip 사용 "
   ]
  },
  {
   "cell_type": "code",
   "execution_count": null,
   "id": "a5eaa894",
   "metadata": {},
   "outputs": [],
   "source": [
    "#문자열 출력 연습\n",
    "st1, st2 = input().split()\n",
    "print(st2, st1+st2)"
   ]
  },
  {
   "cell_type": "code",
   "execution_count": null,
   "id": "e8641b40",
   "metadata": {},
   "outputs": [],
   "source": [
    "#정수로 출력하기\n",
    "a, b, c = input().split()  \n",
    "print(\"잘못된 결과:\", a+b+c)\n",
    "a, b, c = int(a), int(b), int(c)\n",
    "print(\"올바른 결과:\", a+b+c)"
   ]
  },
  {
   "cell_type": "code",
   "execution_count": null,
   "id": "159451fe",
   "metadata": {},
   "outputs": [],
   "source": [
    "#상기 split로 분리된 문자열을 곧바로 정수형으로 적용하고 싶으면 map이용\n",
    "a, b, c = map(int,input().split())\n",
    "print(\"덧셈:\", a+b+c)\n",
    "print(\"곱셈:\", a*b*c)"
   ]
  },
  {
   "cell_type": "code",
   "execution_count": null,
   "id": "bc2b722c",
   "metadata": {},
   "outputs": [],
   "source": [
    "#쓸데없는 공백을 제거하고 출력하기\n",
    "#a = input()\n",
    "#st = a.strip()\n",
    "st = input().strip()\n",
    "print(st)"
   ]
  },
  {
   "cell_type": "code",
   "execution_count": null,
   "id": "ccac627e",
   "metadata": {},
   "outputs": [],
   "source": [
    "# 두 문자열을 입력받아 다양한 방법으로 출력하는 방법\n",
    "\n",
    "a , b = input ().split()\n",
    "st1 = a  +  \" like \"  +  b  \n",
    "print(st1)                                    #print(a, \"like\", b) 또는 print(a + \" like \" + b)로 바로 사용할 수 있다\n",
    "\n",
    "st2 = \"%s like %s\" % (a,b);\n",
    "print(st2)\n",
    "\n",
    "st3 = \"{} like {}\". format (a,b)\n",
    "print(st3)\n",
    "\n",
    "st4 = f\"{a} like {b}\"\n",
    "print(st4)"
   ]
  },
  {
   "cell_type": "code",
   "execution_count": null,
   "id": "6880a733",
   "metadata": {},
   "outputs": [],
   "source": [
    "# 서식문자 사용하기\n",
    "\n",
    "name, height, weight = input().split()\n",
    "height = int(height)\n",
    "weight = float(weight)\n",
    "\n",
    "sentence1 = \"%s의 키는 %scm이며, 몸무게는 %.1fkg입니다.\"\n",
    "sentence1 %= (name, height, weight)\n",
    "print(sentence1)\n",
    "\n",
    "sentence2 = f\"{name}의 키는 {height}cm이며, 몸무게는 {weight:f}kg입니다.\"\n",
    "print(sentence2)"
   ]
  },
  {
   "cell_type": "markdown",
   "id": "a1ef4bc7",
   "metadata": {},
   "source": [
    "## 리스트형 자료"
   ]
  },
  {
   "cell_type": "code",
   "execution_count": null,
   "id": "ce576b07",
   "metadata": {},
   "outputs": [],
   "source": [
    "a = [\"민호\", \"동형\", \"재욱\"]\n",
    "print(a[0])\n",
    "print(a[1])\n",
    "print(a[2])"
   ]
  },
  {
   "cell_type": "code",
   "execution_count": null,
   "id": "cc03a0a3",
   "metadata": {},
   "outputs": [],
   "source": [
    "a = [\"민호\", \"동형\", \"재욱\"]\n",
    "b = [\"철수\", \"동원\", \"호형\"]\n",
    "print(a+b)\n",
    "print((a+b)*2)"
   ]
  },
  {
   "cell_type": "code",
   "execution_count": null,
   "id": "aac83930",
   "metadata": {},
   "outputs": [],
   "source": [
    "li = []\n",
    "st = input(\"문자열을 입력하라: \").strip()\n",
    "li.append(st)\n",
    "li.append(input(\"문자열을 입력하라: \").strip())\n",
    "st = input(\"문자열을 입력하라: \").strip()\n",
    "li += [st]\n",
    "print(li)"
   ]
  },
  {
   "cell_type": "code",
   "execution_count": 1,
   "id": "d54f9e3e",
   "metadata": {},
   "outputs": [
    {
     "name": "stdout",
     "output_type": "stream",
     "text": [
      "string?good\n",
      "['g', 'o', 'o', 'd']\n",
      "o\n"
     ]
    }
   ],
   "source": [
    "st = input(\"string?\" ).strip()\n",
    "li = list(st)\n",
    "print(li)\n",
    "print(li[2])"
   ]
  },
  {
   "cell_type": "code",
   "execution_count": 7,
   "id": "60decc74",
   "metadata": {},
   "outputs": [
    {
     "name": "stdout",
     "output_type": "stream",
     "text": [
      "첫번째 원소: carrot\n",
      "마지막 원소: bean\n",
      "리스트 거꾸로 출력하기: ['bean', 'sweet potato', 'potato', 'cabbage', 'onion', 'carrot']\n",
      "li[2:5]: ['cabbage', 'potato', 'sweet potato']\n",
      "li[5:2:-1]: ['bean', 'sweet potato', 'potato']\n",
      "li[1:6:2]: ['onion', 'potato', 'bean']\n"
     ]
    }
   ],
   "source": [
    "#리스트를 만들고 다양한 부분 리스트를 출력하기\n",
    "\n",
    "li = ['carrot', 'onion', 'cabbage', 'potato', 'sweet potato', 'bean']\n",
    "      \n",
    "print('첫번째 원소:', li[0])\n",
    "print('마지막 원소:', li[-1])\n",
    "print('리스트 거꾸로 출력하기:', li[::-1])\n",
    "      \n",
    "print('li[2:5]:', li[2:5])\n",
    "print('li[5:2:-1]:', li[5:2:-1])\n",
    "print('li[1:6:2]:', li[1:6:2])"
   ]
  },
  {
   "cell_type": "code",
   "execution_count": 9,
   "id": "d2522945",
   "metadata": {},
   "outputs": [
    {
     "name": "stdout",
     "output_type": "stream",
     "text": [
      "apple bear candy dolphin egg\n",
      "['apple', 'bear', 'candy', 'dolphin', 'egg']\n"
     ]
    }
   ],
   "source": [
    "#공백을 사이에 두고 리스트를 입력받아 출력하기\n",
    "\n",
    "li = input().split()\n",
    "print(li)"
   ]
  },
  {
   "cell_type": "code",
   "execution_count": null,
   "id": "f7849e48",
   "metadata": {},
   "outputs": [],
   "source": []
  }
 ],
 "metadata": {
  "kernelspec": {
   "display_name": "Python 3 (ipykernel)",
   "language": "python",
   "name": "python3"
  },
  "language_info": {
   "codemirror_mode": {
    "name": "ipython",
    "version": 3
   },
   "file_extension": ".py",
   "mimetype": "text/x-python",
   "name": "python",
   "nbconvert_exporter": "python",
   "pygments_lexer": "ipython3",
   "version": "3.9.7"
  }
 },
 "nbformat": 4,
 "nbformat_minor": 5
}
